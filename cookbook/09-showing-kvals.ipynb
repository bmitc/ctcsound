{
 "cells": [
  {
   "cell_type": "markdown",
   "metadata": {},
   "source": [
    "# Showing Csound k-Values in Matplotlib Animation\n",
    "The goal of this notebook is to show how Csound control signals can be seen in real-time in the Python [Matplotlib](https://matplotlib.org/) using the [Animation](https://matplotlib.org/api/animation_api.html) module. This can be quite instructive for teaching Csound. Written by Joachim Heintz, August 2019."
   ]
  },
  {
   "cell_type": "markdown",
   "metadata": {},
   "source": [
    "## Choosing the matplotlib backend\n",
    "Not every matplotlib [backend](https://matplotlib.org/3.1.1/tutorials/introductory/usage.html#backends) is capable to show animations. At the time of writing this notebook, the option `%matplolib inline` can only diplay static images. Use `%matplotlib` instead:"
   ]
  },
  {
   "cell_type": "code",
   "execution_count": 1,
   "metadata": {},
   "outputs": [],
   "source": [
    "%matplotlib qt5"
   ]
  },
  {
   "cell_type": "markdown",
   "metadata": {},
   "source": [
    "The backend `Qt5Agg` is — as well as some others — capable to show animations. (If necessary, you should be able to choose an appropriate backend by editing your matplotlib.rc file.)"
   ]
  },
  {
   "cell_type": "markdown",
   "metadata": {},
   "source": [
    "## Basic animation in matplotlib\n",
    "For a basic animation using the [FuncAnimation](https://matplotlib.org/api/_as_gen/matplotlib.animation.FuncAnimation.html#matplotlib.animation.FuncAnimation) we only need two elements:\n",
    "* a matplotlib figure  \n",
    "* an animation function  \n",
    "\n",
    "The [figure](https://matplotlib.org/api/_as_gen/matplotlib.figure.Figure.html#matplotlib.figure.Figure) can be created in many ways in matplotlib. I choose here the [subplots()](https://matplotlib.org/api/_as_gen/matplotlib.pyplot.subplots.html?highlight=subplots#matplotlib.pyplot.subplots) function in pyplot. It returns a figure and an [axes](https://matplotlib.org/api/axes_api.html#matplotlib.axes.Axes) object. The figure object is needed as input for the FuncAnimation. The axes object is modified by some settings, and the method `plot` returns a [Line2D](https://matplotlib.org/api/_as_gen/matplotlib.lines.Line2D.html#matplotlib.lines.Line2D) object which will then be modified during the animation.  \n",
    "The animation function is updated in the call to FuncAnimation every `interval` (default=200) milliseconds. The variable `i` in this function is a frame counter, starting from zero."
   ]
  },
  {
   "cell_type": "code",
   "execution_count": 2,
   "metadata": {},
   "outputs": [],
   "source": [
    "from matplotlib import pyplot as plt\n",
    "from matplotlib import animation\n",
    "\n",
    "fig, ax = plt.subplots()\n",
    "ax.set(xlim=(0,5), ylim=(0,1))\n",
    "line, = ax.plot([], [], lw=2)\n",
    "\n",
    "def animate(i, x=[], y=[]):\n",
    "    x.append(i/10)\n",
    "    y.append(i/50)\n",
    "    line.set_data(x, y)\n",
    "\n",
    "anim = animation.FuncAnimation(fig, animate, interval=100)"
   ]
  },
  {
   "cell_type": "markdown",
   "metadata": {},
   "source": [
    "You should see a line which starts at (0,0) and moves in five seconds to (5,1)."
   ]
  },
  {
   "cell_type": "markdown",
   "metadata": {},
   "source": [
    "## Displaying a Csound control signal\n",
    "If we want to reproduce this very basic example by using a Csound control signal rather than the y-signal generated in the animate function, we have to do this:  \n",
    "* create the signal in Csound and send it via chnset  \n",
    "* receive the signal in the animation function\n",
    "\n",
    "The crucial point here is to run the csound instance in a way that it does not block the execution of the animation. This can be easily done in the way which is shown by François Pinot in the [threading](03-threading.ipynb) notebook.\n",
    "\n",
    "Note: close the precedent graphics canvas window before lauching the next example."
   ]
  },
  {
   "cell_type": "code",
   "execution_count": 3,
   "metadata": {},
   "outputs": [],
   "source": [
    "import ctcsound as csound\n",
    "from matplotlib import pyplot as plt\n",
    "from matplotlib import animation\n",
    "\n",
    "orc = '''\n",
    "instr 1\n",
    " kVal linseg 0, p3, 1\n",
    " chnset kVal, \"val\"\n",
    "endin\n",
    "'''\n",
    "sco = \"i1 0 5\\n\" #try 0.2 as start instead\n",
    "\n",
    "cs = csound.Csound()\n",
    "cs.setOption('-odac')\n",
    "cs.compileOrc(orc)\n",
    "cs.readScore(sco)\n",
    "cs.start()\n",
    "\n",
    "pt = csound.CsoundPerformanceThread(cs.csound())\n",
    "pt.play()\n",
    "\n",
    "fig, ax = plt.subplots()\n",
    "ax.set(xlim=(0,5), ylim=(0,1))\n",
    "line, = ax.plot([], [], lw=2)\n",
    "\n",
    "def animate(i, x=[], y=[]):\n",
    "    x.append(i/10)\n",
    "    y.append(cs.controlChannel('val')[0])\n",
    "    line.set_data(x, y)\n",
    "\n",
    "anim = animation.FuncAnimation(fig, animate, interval=100)"
   ]
  },
  {
   "cell_type": "markdown",
   "metadata": {},
   "source": [
    "You should see more or less the same here: a line starting from (0,0) to (5,1).  \n",
    "Well, more or less ... --- Depending on the time the backend needs to create the canvas, your line will be shifted a bit . A simple way to deal with it is to start the first instrument a bit later. In my case. 0.2 instead of 0 is a good option.  \n",
    "Remember to execute these commands before you run the example again:"
   ]
  },
  {
   "cell_type": "code",
   "execution_count": 4,
   "metadata": {},
   "outputs": [],
   "source": [
    "pt.stop()\n",
    "pt.join()\n",
    "cs.reset()"
   ]
  },
  {
   "cell_type": "markdown",
   "metadata": {},
   "source": [
    "## Approaching the comfort zone\n",
    "The next version applies some more consistency to the variable settings. You can set any frame rate in milliseconds in the `tmint` variable. And the x-axis will shift if the time has reached 4/5 of its size. So you can watch how the line moves as long as your instrument duration allows ...  "
   ]
  },
  {
   "cell_type": "code",
   "execution_count": 5,
   "metadata": {},
   "outputs": [],
   "source": [
    "import ctcsound as csound\n",
    "from matplotlib import pyplot as plt\n",
    "from matplotlib import animation\n",
    "\n",
    "orc = '''\n",
    "ksmps = 128\n",
    "seed 0\n",
    "instr 1\n",
    " kVal randomi 0, 1, 1, 3\n",
    " chnset kVal, \"val\"\n",
    "endin\n",
    "'''\n",
    "sco = \"i1 0.2 99999\\n\"\n",
    "\n",
    "#plot and animation settings\n",
    "xlim=(0,5)\n",
    "ylim=(0,1)\n",
    "tmint = 100 #time interval in ms\n",
    "cschn = 'val' #csound channel name\n",
    "\n",
    "cs = csound.Csound()\n",
    "cs.setOption('-odac')\n",
    "cs.compileOrc(orc)\n",
    "cs.readScore(sco)\n",
    "cs.start()\n",
    "\n",
    "pt = csound.CsoundPerformanceThread(cs.csound())\n",
    "pt.play()\n",
    "\n",
    "fig, ax = plt.subplots()\n",
    "ax.set(xlim=xlim, ylim=ylim)\n",
    "line, = ax.plot([], [], lw=2)\n",
    "fps = 1000/tmint\n",
    "xrange = xlim[1] - xlim[0]\n",
    "xshow = 4/5\n",
    "xclear = 1-xshow\n",
    "\n",
    "def animate(i, x=[], y=[]):\n",
    "    x.append(i/fps)\n",
    "    y.append(cs.controlChannel(cschn)[0])\n",
    "    line.set_data(x, y)\n",
    "    if i > fps*xrange*xshow:\n",
    "        ax.set_xlim(i/fps-xrange*xshow,i/fps+xrange*xclear)\n",
    "\n",
    "anim = animation.FuncAnimation(fig, animate, interval=tmint)"
   ]
  },
  {
   "cell_type": "code",
   "execution_count": 6,
   "metadata": {},
   "outputs": [],
   "source": [
    "pt.stop()\n",
    "pt.join()\n",
    "cs.reset()"
   ]
  },
  {
   "cell_type": "markdown",
   "metadata": {},
   "source": [
    "## Latency and further optimizations\n",
    "The goal of the approach here is not to have live video for a musical performance, but to use the nice features of matplotlib for showing how a control signal is moving. But it seems that even for simple sounding examples it works, as the example below suggests.  \n",
    "There are a number of optimizations which I have not used. If necessary, they should improve the performance:  \n",
    "* On the matplotlib side, an init function can be used. Depending on the kind of animation, the option `blit=True` can save some speed (in this case, the init and the animate function must return the `line,` variable then).\n",
    "* On the ctcsound side, using the method channelPtr rather than the raw controlChannel should be more efficient."
   ]
  },
  {
   "cell_type": "code",
   "execution_count": 7,
   "metadata": {},
   "outputs": [],
   "source": [
    "import ctcsound as csound\n",
    "from matplotlib import pyplot as plt\n",
    "from matplotlib import animation\n",
    "\n",
    "orc = '''\n",
    "ksmps = 128\n",
    "nchnls = 2\n",
    "0dbfs = 1\n",
    "seed 0\n",
    "instr 1\n",
    " kMidiPitch randomi 57, 62, 1, 3\n",
    " kVibr = poscil:k(randomi:k(0,1,.2,3),randomi:k(3,8,1))\n",
    " kDb randomi -20, 0, 1/3, 3\n",
    " kPan randomi 0, 1, 1, 3\n",
    " chnset kMidiPitch, \"pitch\"\n",
    " chnset kDb, \"vol\"\n",
    " chnset kPan, \"pan\"\n",
    " aSnd vco2 ampdb(kDb), mtof(kMidiPitch+kVibr)\n",
    " aL, aR pan2 aSnd, kPan\n",
    " out aL, aR \n",
    "endin\n",
    "'''\n",
    "sco = \"i1 0.2 99999\\n\"\n",
    "\n",
    "xlim_pv=(0,5)\n",
    "xlim_pan=(0,1)\n",
    "ylim_pch=(57,62)\n",
    "ylim_vol=(-20,0)\n",
    "ylim_pan=(0,0.2)\n",
    "tmint = 100\n",
    "chn_pch = 'pitch'\n",
    "chn_vol = 'vol'\n",
    "chn_pan = 'pan'\n",
    "\n",
    "cs = csound.Csound()\n",
    "cs.setOption('-odac')\n",
    "cs.compileOrc(orc)\n",
    "cs.readScore(sco)\n",
    "cs.start()\n",
    "\n",
    "pt = csound.CsoundPerformanceThread(cs.csound())\n",
    "pt.play()\n",
    "\n",
    "fig, ax = plt.subplots(3, tight_layout=True, gridspec_kw={'height_ratios': [3, 3, 1]})\n",
    "ax[0].set(xlim=xlim_pv, ylim=ylim_pch, title='Pitch', xticks=())\n",
    "ax[1].set(xlim=xlim_pv, ylim=ylim_vol, title='Volume (dB)', xticks=())\n",
    "ax[2].set(xlim=xlim_pan, ylim=ylim_pan, title='Pan', xticks=[0,0.5,1], xticklabels=['L','M','R'], yticks=())\n",
    "ax[0].spines['top'].set_visible(False)\n",
    "ax[1].spines['top'].set_visible(False)\n",
    "ax[2].spines['top'].set_visible(False)\n",
    "ax[0].spines['right'].set_visible(False)\n",
    "ax[1].spines['right'].set_visible(False)\n",
    "ax[2].spines['right'].set_visible(False)\n",
    "ax[2].spines['left'].set_visible(False)\n",
    "pchline, = ax[0].plot([], [], lw=2, c='r')\n",
    "volline, = ax[1].plot([], [], lw=2, c='b')\n",
    "panpnt, = ax[2].plot(0.5, 0.1, 'go', lw=4)\n",
    "fps = 1000/tmint\n",
    "xrange = xlim_pv[1] - xlim_pv[0]\n",
    "xshow = 4/5\n",
    "xclear = 1-xshow\n",
    "\n",
    "def animate(i, x_pv=[], y_pch=[], y_vol=[]):\n",
    "    x_pv.append(i/fps)\n",
    "    y_pch.append(cs.controlChannel(chn_pch)[0])\n",
    "    pchline.set_data(x_pv, y_pch)\n",
    "    y_vol.append(cs.controlChannel(chn_vol)[0])\n",
    "    volline.set_data(x_pv, y_vol)\n",
    "    if i > fps*xrange*xshow:\n",
    "        ax[0].set_xlim(i/fps-xrange*xshow,i/fps+xrange*xclear)\n",
    "        ax[1].set_xlim(i/fps-xrange*xshow,i/fps+xrange*xclear)\n",
    "    x_pan = cs.controlChannel(chn_pan)[0]\n",
    "    panpnt.set_data(x_pan,0.1)\n",
    "\n",
    "anim = animation.FuncAnimation(fig, animate, interval=tmint)"
   ]
  },
  {
   "cell_type": "code",
   "execution_count": 8,
   "metadata": {},
   "outputs": [],
   "source": [
    "pt.stop()\n",
    "pt.join()\n",
    "cs.reset()"
   ]
  },
  {
   "cell_type": "markdown",
   "metadata": {},
   "source": [
    "Author: Joachim Heintz, August 2019"
   ]
  }
 ],
 "metadata": {
  "kernelspec": {
   "display_name": "Python 3",
   "language": "python",
   "name": "python3"
  },
  "language_info": {
   "codemirror_mode": {
    "name": "ipython",
    "version": 3
   },
   "file_extension": ".py",
   "mimetype": "text/x-python",
   "name": "python",
   "nbconvert_exporter": "python",
   "pygments_lexer": "ipython3",
   "version": "3.6.9"
  }
 },
 "nbformat": 4,
 "nbformat_minor": 4
}
